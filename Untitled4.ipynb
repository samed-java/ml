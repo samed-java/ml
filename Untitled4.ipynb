{
  "cells": [
    {
      "cell_type": "markdown",
      "metadata": {
        "id": "view-in-github",
        "colab_type": "text"
      },
      "source": [
        "<a href=\"https://colab.research.google.com/github/samed-java/ml/blob/main/Untitled4.ipynb\" target=\"_parent\"><img src=\"https://colab.research.google.com/assets/colab-badge.svg\" alt=\"Open In Colab\"/></a>"
      ]
    },
    {
      "cell_type": "markdown",
      "metadata": {
        "id": "WTRyz4y0-htq"
      },
      "source": [
        "Data Preprocessing"
      ]
    },
    {
      "cell_type": "code",
      "execution_count": 67,
      "metadata": {
        "colab": {
          "base_uri": "https://localhost:8080/"
        },
        "id": "sAazRoe_xFBW",
        "outputId": "2f4c51db-fdcc-491c-d1bf-9469fa0b8ffc"
      },
      "outputs": [
        {
          "output_type": "stream",
          "name": "stdout",
          "text": [
            "(160254, 13)\n",
            "(160254, 13)\n"
          ]
        }
      ],
      "source": [
        "import numpy as np # linear algebra\n",
        "import pandas as pd # data processing, CSV file I/O (e.g. pd.read_csv)\n",
        "# Ignore warnings\n",
        "import warnings\n",
        "warnings.filterwarnings('ignore')\n",
        "\n",
        "#Settings\n",
        "pd.set_option('display.max_columns', None)\n",
        "pd.set_option('display.max_rows', None)\n",
        "#Probably can`t be finished because of huge amount of data with kaggle hardware, add nrows parameter to run here\n",
        "#Load Data\n",
        "\n",
        "cols = [' Bwd Packet Length Std',' PSH Flag Count',' min_seg_size_forward',' Min Packet Length',' ACK Flag Count',' Bwd Packet Length Min',' Fwd IAT Std','Init_Win_bytes_forward',' Flow IAT Max',' Bwd Packets/s',' URG Flag Count','Bwd IAT Total',' Label']\n",
        "df1=pd.read_csv(\"Friday-WorkingHours-Afternoon-DDos.pcap_ISCX.csv\", usecols = cols)#,nrows = 50000\n",
        "df2=pd.read_csv(\"Friday-WorkingHours-Afternoon-PortScan.pcap_ISCX.csv\", usecols = cols)\n",
        "df3=pd.read_csv(\"Friday-WorkingHours-Morning.pcap_ISCX.csv\", usecols = cols)\n",
        "df5=pd.read_csv(\"Thursday-WorkingHours-Afternoon-Infilteration.pcap_ISCX.csv\", usecols = cols)\n",
        "df6=pd.read_csv(\"Thursday-WorkingHours-Morning-WebAttacks.pcap_ISCX.csv\", usecols = cols)\n",
        "\n",
        "# df4, df7 and df8 are being left out as they only have the benign samples\n",
        "\n",
        "df = pd.concat([df1,df2])\n",
        "del df1,df2\n",
        "df = pd.concat([df,df3])\n",
        "del df3\n",
        "df = pd.concat([df,df5])\n",
        "del df5\n",
        "df = pd.concat([df,df6])\n",
        "del df6\n",
        "\n",
        "\n",
        "df.replace([np.inf, -np.inf], np.nan, inplace=True)\n",
        "# df.fillna(999, inplace=True)\n",
        "df.interpolate(method=\"linear\",inplace=True)\n",
        "df.dropna(inplace=True)\n",
        "\n",
        "data = df.copy()\n",
        "\n",
        "print(data.shape)\n",
        "\n",
        "# data= data.sample(n=data.shape[0]//2)\n",
        "\n",
        "\n",
        "print(data.shape)\n",
        "\n",
        "\n",
        "# y = data[' Label'].copy()\n",
        "# X = data.drop([' Label'],axis=1)"
      ]
    },
    {
      "cell_type": "code",
      "execution_count": 68,
      "metadata": {
        "id": "kqLy6kTz6s4h",
        "colab": {
          "base_uri": "https://localhost:8080/",
          "height": 258
        },
        "outputId": "126cd29b-5a80-4096-e622-7f8fc00b2bf4"
      },
      "outputs": [
        {
          "output_type": "execute_result",
          "data": {
            "text/plain": [
              "    Bwd Packet Length Min   Bwd Packet Length Std   Flow IAT Max  \\\n",
              "0                       0                     0.0            3.0   \n",
              "1                       6                     0.0          109.0   \n",
              "2                       6                     0.0           52.0   \n",
              "3                       6                     0.0           34.0   \n",
              "4                       0                     0.0            3.0   \n",
              "\n",
              "    Fwd IAT Std  Bwd IAT Total   Bwd Packets/s   Min Packet Length  \\\n",
              "0           0.0            0.0        0.000000                 6.0   \n",
              "1           0.0            0.0     9174.311927                 6.0   \n",
              "2           0.0            0.0    19230.769230                 6.0   \n",
              "3           0.0            0.0    29411.764710                 6.0   \n",
              "4           0.0            0.0        0.000000                 6.0   \n",
              "\n",
              "    PSH Flag Count   ACK Flag Count   URG Flag Count  Init_Win_bytes_forward  \\\n",
              "0              0.0              1.0              0.0                    33.0   \n",
              "1              0.0              1.0              1.0                    29.0   \n",
              "2              0.0              1.0              1.0                    29.0   \n",
              "3              0.0              1.0              1.0                    31.0   \n",
              "4              0.0              1.0              0.0                    32.0   \n",
              "\n",
              "    min_seg_size_forward   Label  \n",
              "0                   20.0  BENIGN  \n",
              "1                   20.0  BENIGN  \n",
              "2                   20.0  BENIGN  \n",
              "3                   20.0  BENIGN  \n",
              "4                   20.0  BENIGN  "
            ],
            "text/html": [
              "\n",
              "  <div id=\"df-3376a3eb-e489-40fa-b14d-75fe5f7f3258\" class=\"colab-df-container\">\n",
              "    <div>\n",
              "<style scoped>\n",
              "    .dataframe tbody tr th:only-of-type {\n",
              "        vertical-align: middle;\n",
              "    }\n",
              "\n",
              "    .dataframe tbody tr th {\n",
              "        vertical-align: top;\n",
              "    }\n",
              "\n",
              "    .dataframe thead th {\n",
              "        text-align: right;\n",
              "    }\n",
              "</style>\n",
              "<table border=\"1\" class=\"dataframe\">\n",
              "  <thead>\n",
              "    <tr style=\"text-align: right;\">\n",
              "      <th></th>\n",
              "      <th>Bwd Packet Length Min</th>\n",
              "      <th>Bwd Packet Length Std</th>\n",
              "      <th>Flow IAT Max</th>\n",
              "      <th>Fwd IAT Std</th>\n",
              "      <th>Bwd IAT Total</th>\n",
              "      <th>Bwd Packets/s</th>\n",
              "      <th>Min Packet Length</th>\n",
              "      <th>PSH Flag Count</th>\n",
              "      <th>ACK Flag Count</th>\n",
              "      <th>URG Flag Count</th>\n",
              "      <th>Init_Win_bytes_forward</th>\n",
              "      <th>min_seg_size_forward</th>\n",
              "      <th>Label</th>\n",
              "    </tr>\n",
              "  </thead>\n",
              "  <tbody>\n",
              "    <tr>\n",
              "      <th>0</th>\n",
              "      <td>0</td>\n",
              "      <td>0.0</td>\n",
              "      <td>3.0</td>\n",
              "      <td>0.0</td>\n",
              "      <td>0.0</td>\n",
              "      <td>0.000000</td>\n",
              "      <td>6.0</td>\n",
              "      <td>0.0</td>\n",
              "      <td>1.0</td>\n",
              "      <td>0.0</td>\n",
              "      <td>33.0</td>\n",
              "      <td>20.0</td>\n",
              "      <td>BENIGN</td>\n",
              "    </tr>\n",
              "    <tr>\n",
              "      <th>1</th>\n",
              "      <td>6</td>\n",
              "      <td>0.0</td>\n",
              "      <td>109.0</td>\n",
              "      <td>0.0</td>\n",
              "      <td>0.0</td>\n",
              "      <td>9174.311927</td>\n",
              "      <td>6.0</td>\n",
              "      <td>0.0</td>\n",
              "      <td>1.0</td>\n",
              "      <td>1.0</td>\n",
              "      <td>29.0</td>\n",
              "      <td>20.0</td>\n",
              "      <td>BENIGN</td>\n",
              "    </tr>\n",
              "    <tr>\n",
              "      <th>2</th>\n",
              "      <td>6</td>\n",
              "      <td>0.0</td>\n",
              "      <td>52.0</td>\n",
              "      <td>0.0</td>\n",
              "      <td>0.0</td>\n",
              "      <td>19230.769230</td>\n",
              "      <td>6.0</td>\n",
              "      <td>0.0</td>\n",
              "      <td>1.0</td>\n",
              "      <td>1.0</td>\n",
              "      <td>29.0</td>\n",
              "      <td>20.0</td>\n",
              "      <td>BENIGN</td>\n",
              "    </tr>\n",
              "    <tr>\n",
              "      <th>3</th>\n",
              "      <td>6</td>\n",
              "      <td>0.0</td>\n",
              "      <td>34.0</td>\n",
              "      <td>0.0</td>\n",
              "      <td>0.0</td>\n",
              "      <td>29411.764710</td>\n",
              "      <td>6.0</td>\n",
              "      <td>0.0</td>\n",
              "      <td>1.0</td>\n",
              "      <td>1.0</td>\n",
              "      <td>31.0</td>\n",
              "      <td>20.0</td>\n",
              "      <td>BENIGN</td>\n",
              "    </tr>\n",
              "    <tr>\n",
              "      <th>4</th>\n",
              "      <td>0</td>\n",
              "      <td>0.0</td>\n",
              "      <td>3.0</td>\n",
              "      <td>0.0</td>\n",
              "      <td>0.0</td>\n",
              "      <td>0.000000</td>\n",
              "      <td>6.0</td>\n",
              "      <td>0.0</td>\n",
              "      <td>1.0</td>\n",
              "      <td>0.0</td>\n",
              "      <td>32.0</td>\n",
              "      <td>20.0</td>\n",
              "      <td>BENIGN</td>\n",
              "    </tr>\n",
              "  </tbody>\n",
              "</table>\n",
              "</div>\n",
              "    <div class=\"colab-df-buttons\">\n",
              "\n",
              "  <div class=\"colab-df-container\">\n",
              "    <button class=\"colab-df-convert\" onclick=\"convertToInteractive('df-3376a3eb-e489-40fa-b14d-75fe5f7f3258')\"\n",
              "            title=\"Convert this dataframe to an interactive table.\"\n",
              "            style=\"display:none;\">\n",
              "\n",
              "  <svg xmlns=\"http://www.w3.org/2000/svg\" height=\"24px\" viewBox=\"0 -960 960 960\">\n",
              "    <path d=\"M120-120v-720h720v720H120Zm60-500h600v-160H180v160Zm220 220h160v-160H400v160Zm0 220h160v-160H400v160ZM180-400h160v-160H180v160Zm440 0h160v-160H620v160ZM180-180h160v-160H180v160Zm440 0h160v-160H620v160Z\"/>\n",
              "  </svg>\n",
              "    </button>\n",
              "\n",
              "  <style>\n",
              "    .colab-df-container {\n",
              "      display:flex;\n",
              "      gap: 12px;\n",
              "    }\n",
              "\n",
              "    .colab-df-convert {\n",
              "      background-color: #E8F0FE;\n",
              "      border: none;\n",
              "      border-radius: 50%;\n",
              "      cursor: pointer;\n",
              "      display: none;\n",
              "      fill: #1967D2;\n",
              "      height: 32px;\n",
              "      padding: 0 0 0 0;\n",
              "      width: 32px;\n",
              "    }\n",
              "\n",
              "    .colab-df-convert:hover {\n",
              "      background-color: #E2EBFA;\n",
              "      box-shadow: 0px 1px 2px rgba(60, 64, 67, 0.3), 0px 1px 3px 1px rgba(60, 64, 67, 0.15);\n",
              "      fill: #174EA6;\n",
              "    }\n",
              "\n",
              "    .colab-df-buttons div {\n",
              "      margin-bottom: 4px;\n",
              "    }\n",
              "\n",
              "    [theme=dark] .colab-df-convert {\n",
              "      background-color: #3B4455;\n",
              "      fill: #D2E3FC;\n",
              "    }\n",
              "\n",
              "    [theme=dark] .colab-df-convert:hover {\n",
              "      background-color: #434B5C;\n",
              "      box-shadow: 0px 1px 3px 1px rgba(0, 0, 0, 0.15);\n",
              "      filter: drop-shadow(0px 1px 2px rgba(0, 0, 0, 0.3));\n",
              "      fill: #FFFFFF;\n",
              "    }\n",
              "  </style>\n",
              "\n",
              "    <script>\n",
              "      const buttonEl =\n",
              "        document.querySelector('#df-3376a3eb-e489-40fa-b14d-75fe5f7f3258 button.colab-df-convert');\n",
              "      buttonEl.style.display =\n",
              "        google.colab.kernel.accessAllowed ? 'block' : 'none';\n",
              "\n",
              "      async function convertToInteractive(key) {\n",
              "        const element = document.querySelector('#df-3376a3eb-e489-40fa-b14d-75fe5f7f3258');\n",
              "        const dataTable =\n",
              "          await google.colab.kernel.invokeFunction('convertToInteractive',\n",
              "                                                    [key], {});\n",
              "        if (!dataTable) return;\n",
              "\n",
              "        const docLinkHtml = 'Like what you see? Visit the ' +\n",
              "          '<a target=\"_blank\" href=https://colab.research.google.com/notebooks/data_table.ipynb>data table notebook</a>'\n",
              "          + ' to learn more about interactive tables.';\n",
              "        element.innerHTML = '';\n",
              "        dataTable['output_type'] = 'display_data';\n",
              "        await google.colab.output.renderOutput(dataTable, element);\n",
              "        const docLink = document.createElement('div');\n",
              "        docLink.innerHTML = docLinkHtml;\n",
              "        element.appendChild(docLink);\n",
              "      }\n",
              "    </script>\n",
              "  </div>\n",
              "\n",
              "\n",
              "<div id=\"df-a6fe2c65-f21d-4c87-a711-a9a4fd7de0ef\">\n",
              "  <button class=\"colab-df-quickchart\" onclick=\"quickchart('df-a6fe2c65-f21d-4c87-a711-a9a4fd7de0ef')\"\n",
              "            title=\"Suggest charts\"\n",
              "            style=\"display:none;\">\n",
              "\n",
              "<svg xmlns=\"http://www.w3.org/2000/svg\" height=\"24px\"viewBox=\"0 0 24 24\"\n",
              "     width=\"24px\">\n",
              "    <g>\n",
              "        <path d=\"M19 3H5c-1.1 0-2 .9-2 2v14c0 1.1.9 2 2 2h14c1.1 0 2-.9 2-2V5c0-1.1-.9-2-2-2zM9 17H7v-7h2v7zm4 0h-2V7h2v10zm4 0h-2v-4h2v4z\"/>\n",
              "    </g>\n",
              "</svg>\n",
              "  </button>\n",
              "\n",
              "<style>\n",
              "  .colab-df-quickchart {\n",
              "      --bg-color: #E8F0FE;\n",
              "      --fill-color: #1967D2;\n",
              "      --hover-bg-color: #E2EBFA;\n",
              "      --hover-fill-color: #174EA6;\n",
              "      --disabled-fill-color: #AAA;\n",
              "      --disabled-bg-color: #DDD;\n",
              "  }\n",
              "\n",
              "  [theme=dark] .colab-df-quickchart {\n",
              "      --bg-color: #3B4455;\n",
              "      --fill-color: #D2E3FC;\n",
              "      --hover-bg-color: #434B5C;\n",
              "      --hover-fill-color: #FFFFFF;\n",
              "      --disabled-bg-color: #3B4455;\n",
              "      --disabled-fill-color: #666;\n",
              "  }\n",
              "\n",
              "  .colab-df-quickchart {\n",
              "    background-color: var(--bg-color);\n",
              "    border: none;\n",
              "    border-radius: 50%;\n",
              "    cursor: pointer;\n",
              "    display: none;\n",
              "    fill: var(--fill-color);\n",
              "    height: 32px;\n",
              "    padding: 0;\n",
              "    width: 32px;\n",
              "  }\n",
              "\n",
              "  .colab-df-quickchart:hover {\n",
              "    background-color: var(--hover-bg-color);\n",
              "    box-shadow: 0 1px 2px rgba(60, 64, 67, 0.3), 0 1px 3px 1px rgba(60, 64, 67, 0.15);\n",
              "    fill: var(--button-hover-fill-color);\n",
              "  }\n",
              "\n",
              "  .colab-df-quickchart-complete:disabled,\n",
              "  .colab-df-quickchart-complete:disabled:hover {\n",
              "    background-color: var(--disabled-bg-color);\n",
              "    fill: var(--disabled-fill-color);\n",
              "    box-shadow: none;\n",
              "  }\n",
              "\n",
              "  .colab-df-spinner {\n",
              "    border: 2px solid var(--fill-color);\n",
              "    border-color: transparent;\n",
              "    border-bottom-color: var(--fill-color);\n",
              "    animation:\n",
              "      spin 1s steps(1) infinite;\n",
              "  }\n",
              "\n",
              "  @keyframes spin {\n",
              "    0% {\n",
              "      border-color: transparent;\n",
              "      border-bottom-color: var(--fill-color);\n",
              "      border-left-color: var(--fill-color);\n",
              "    }\n",
              "    20% {\n",
              "      border-color: transparent;\n",
              "      border-left-color: var(--fill-color);\n",
              "      border-top-color: var(--fill-color);\n",
              "    }\n",
              "    30% {\n",
              "      border-color: transparent;\n",
              "      border-left-color: var(--fill-color);\n",
              "      border-top-color: var(--fill-color);\n",
              "      border-right-color: var(--fill-color);\n",
              "    }\n",
              "    40% {\n",
              "      border-color: transparent;\n",
              "      border-right-color: var(--fill-color);\n",
              "      border-top-color: var(--fill-color);\n",
              "    }\n",
              "    60% {\n",
              "      border-color: transparent;\n",
              "      border-right-color: var(--fill-color);\n",
              "    }\n",
              "    80% {\n",
              "      border-color: transparent;\n",
              "      border-right-color: var(--fill-color);\n",
              "      border-bottom-color: var(--fill-color);\n",
              "    }\n",
              "    90% {\n",
              "      border-color: transparent;\n",
              "      border-bottom-color: var(--fill-color);\n",
              "    }\n",
              "  }\n",
              "</style>\n",
              "\n",
              "  <script>\n",
              "    async function quickchart(key) {\n",
              "      const quickchartButtonEl =\n",
              "        document.querySelector('#' + key + ' button');\n",
              "      quickchartButtonEl.disabled = true;  // To prevent multiple clicks.\n",
              "      quickchartButtonEl.classList.add('colab-df-spinner');\n",
              "      try {\n",
              "        const charts = await google.colab.kernel.invokeFunction(\n",
              "            'suggestCharts', [key], {});\n",
              "      } catch (error) {\n",
              "        console.error('Error during call to suggestCharts:', error);\n",
              "      }\n",
              "      quickchartButtonEl.classList.remove('colab-df-spinner');\n",
              "      quickchartButtonEl.classList.add('colab-df-quickchart-complete');\n",
              "    }\n",
              "    (() => {\n",
              "      let quickchartButtonEl =\n",
              "        document.querySelector('#df-a6fe2c65-f21d-4c87-a711-a9a4fd7de0ef button');\n",
              "      quickchartButtonEl.style.display =\n",
              "        google.colab.kernel.accessAllowed ? 'block' : 'none';\n",
              "    })();\n",
              "  </script>\n",
              "</div>\n",
              "\n",
              "    </div>\n",
              "  </div>\n"
            ],
            "application/vnd.google.colaboratory.intrinsic+json": {
              "type": "dataframe",
              "variable_name": "data"
            }
          },
          "metadata": {},
          "execution_count": 68
        }
      ],
      "source": [
        "data.head()"
      ]
    },
    {
      "cell_type": "code",
      "execution_count": 69,
      "metadata": {
        "colab": {
          "base_uri": "https://localhost:8080/",
          "height": 353
        },
        "id": "nt6XLWin5UVB",
        "outputId": "039de196-a9ef-46fa-c89c-b0de2f3a720e"
      },
      "outputs": [
        {
          "output_type": "stream",
          "name": "stdout",
          "text": [
            "1\n"
          ]
        },
        {
          "output_type": "display_data",
          "data": {
            "text/plain": [
              "<Figure size 2400x640 with 5 Axes>"
            ],
            "image/png": "[encoded data removed]"
          },
          "metadata": {}
        }
      ],
      "source": [
        "import matplotlib.pyplot as plt\n",
        "\n",
        "def plotPerColumnDistribution(df, nGraphShown, nGraphPerRow):\n",
        "    nunique = df.nunique()\n",
        "    df = df[[col for col in df if nunique[col] > 1 and nunique[col] < 50]]  # Sadece belirli sayıda farklı değere sahip sütunları al\n",
        "    nRow, nCol = df.shape\n",
        "    columnNames = list(df)\n",
        "    nGraphRow = int((nCol + nGraphPerRow - 1) / nGraphPerRow) # nGraphRow'u tamsayıya dönüştür\n",
        "    print(nGraphRow)\n",
        "    figX= 6 * nGraphPerRow\n",
        "    figY=  8 * nGraphRow\n",
        "    figSize = (int(figX),int(figY))\n",
        "    plt.figure(num=None, figsize=figSize, dpi=80, facecolor='w', edgecolor='k')\n",
        "    for i in range(min(nCol, nGraphShown)):\n",
        "        plt.subplot(nGraphRow, nGraphPerRow, i + 1)\n",
        "        columnDf = df.iloc[:, i]\n",
        "        if (not np.issubdtype(type(columnDf.iloc[0]), np.number)):\n",
        "            continue  # Sadece sayısal sütunları göster\n",
        "        columnDf.hist(bins=10, rwidth=0.9)\n",
        "        plt.xlabel(columnNames[i])\n",
        "        plt.ylabel('Count')\n",
        "        plt.title(f'{columnNames[i]} - Distribution')\n",
        "    plt.tight_layout(pad=1.0, w_pad=1.0, h_pad=1.0)\n",
        "    plt.show()\n",
        "\n",
        "plotPerColumnDistribution(data, 79, 5)"
      ]
    },
    {
      "cell_type": "code",
      "execution_count": 70,
      "metadata": {
        "colab": {
          "base_uri": "https://localhost:8080/"
        },
        "id": "o6UHG5I05-pp",
        "outputId": "c9e199d6-1af5-4028-f96d-62db34f78e9c"
      },
      "outputs": [
        {
          "output_type": "stream",
          "name": "stdout",
          "text": [
            "(112177, 13)\n",
            "(48077, 13)\n"
          ]
        },
        {
          "output_type": "execute_result",
          "data": {
            "text/plain": [
              " Label\n",
              "BENIGN                      47730\n",
              "Web Attack � Brute Force      281\n",
              "Bot                            64\n",
              "PortScan                        2\n",
              "Name: count, dtype: int64"
            ]
          },
          "metadata": {},
          "execution_count": 70
        }
      ],
      "source": [
        "#Split dataset on train and test\n",
        "from sklearn.model_selection import train_test_split\n",
        "train, test=train_test_split(data,test_size=0.3, random_state=10)\n",
        "\n",
        "#Exploratory Analysis\n",
        "# Descriptive statistics\n",
        "train.describe()\n",
        "test.describe()\n",
        "\n",
        "print(train.shape)\n",
        "print(test.shape)\n",
        "\n",
        "\n",
        "# Packet Attack Distribution\n",
        "train[' Label'].value_counts()\n",
        "test[' Label'].value_counts()"
      ]
    },
    {
      "cell_type": "code",
      "execution_count": 71,
      "metadata": {
        "id": "-AWZ1YPE-e8r"
      },
      "outputs": [],
      "source": [
        "#Scalling numerical attributes\n",
        "from sklearn.preprocessing import StandardScaler\n",
        "scaler = StandardScaler()\n",
        "\n",
        "# extract numerical attributes and scale it to have zero mean and unit variance\n",
        "cols = train.select_dtypes(include=['float64','int64']).columns\n",
        "sc_train = scaler.fit_transform(train.select_dtypes(include=['float64','int64']))\n",
        "sc_test = scaler.fit_transform(test.select_dtypes(include=['float64','int64']))\n",
        "\n",
        "# turn the result back to a dataframe\n",
        "sc_traindf = pd.DataFrame(sc_train, columns = cols)\n",
        "sc_testdf = pd.DataFrame(sc_test, columns = cols)"
      ]
    },
    {
      "cell_type": "code",
      "execution_count": 72,
      "metadata": {
        "id": "k3KsY8L8-qRR"
      },
      "outputs": [],
      "source": [
        "# # importing one hot encoder from sklearn\n",
        "# from sklearn.preprocessing import OneHotEncoder\n",
        "\n",
        "# # creating one hot encoder object\n",
        "# onehotencoder = OneHotEncoder()\n",
        "\n",
        "trainDep = train[' Label'].values.reshape(-1,1)\n",
        "# trainDep = onehotencoder.fit_transform(trainDep).toarray()\n",
        "testDep = test[' Label'].values.reshape(-1,1)\n",
        "# testDep = onehotencoder.fit_transform(testDep).toarray()"
      ]
    },
    {
      "cell_type": "code",
      "execution_count": 73,
      "metadata": {
        "id": "ewqVCDQh-6Oa"
      },
      "outputs": [],
      "source": [
        "train_X=sc_traindf\n",
        "train_y=trainDep[:,0]\n",
        "\n",
        "test_X=sc_testdf\n",
        "test_y=testDep[:,0]"
      ]
    },
    {
      "cell_type": "markdown",
      "metadata": {
        "id": "xarm-JJc-vJL"
      },
      "source": [
        "Isolation Forest Model"
      ]
    },
    {
      "cell_type": "code",
      "execution_count": 74,
      "metadata": {
        "colab": {
          "base_uri": "https://localhost:8080/"
        },
        "id": "4pQUxYPKxlI8",
        "outputId": "857b7be3-039c-4272-ea44-6ae2b534b6e3"
      },
      "outputs": [
        {
          "output_type": "stream",
          "name": "stdout",
          "text": [
            "[ 1  1  1 ...  1 -1  1]\n",
            "(48077,)\n",
            "percentage of Legit: 94.20720926846518\n",
            "percentage of Anomaly: 5.792790731534829\n"
          ]
        }
      ],
      "source": [
        "from sklearn.ensemble import IsolationForest\n",
        "\n",
        "rng = np.random.RandomState(200)\n",
        "\n",
        "model = IsolationForest(max_samples=10000, random_state=rng)\n",
        "model.fit(train_X)\n",
        "y_pred_train = model.predict(train_X)\n",
        "y_pred_test = model.predict(test_X)\n",
        "print(y_pred_test)\n",
        "print(y_pred_test.shape)\n",
        "\n",
        "print(\"percentage of Legit:\", (list(y_pred_test).count(1)/y_pred_test.shape[0])*100)\n",
        "print(\"percentage of Anomaly:\",(list(y_pred_test).count(-1)/y_pred_test.shape[0])*100)"
      ]
    },
    {
      "cell_type": "code",
      "execution_count": 75,
      "metadata": {
        "colab": {
          "base_uri": "https://localhost:8080/"
        },
        "id": "pijEt6KqycfA",
        "outputId": "b998b6e4-9d42-4077-b423-a1655d9f553e"
      },
      "outputs": [
        {
          "output_type": "execute_result",
          "data": {
            "text/plain": [
              "array(['BENIGN', 'Bot', 'PortScan', 'Web Attack � Brute Force'],\n",
              "      dtype=object)"
            ]
          },
          "metadata": {},
          "execution_count": 75
        }
      ],
      "source": [
        "np.unique(test_y)"
      ]
    },
    {
      "cell_type": "code",
      "execution_count": 76,
      "metadata": {
        "colab": {
          "base_uri": "https://localhost:8080/"
        },
        "id": "aflRIpCRyjoo",
        "outputId": "a2545b3c-b9dc-400d-cf87-58ca77b18ab0"
      },
      "outputs": [
        {
          "output_type": "execute_result",
          "data": {
            "text/plain": [
              "array([ 1, -1])"
            ]
          },
          "metadata": {},
          "execution_count": 76
        }
      ],
      "source": [
        "y_true_train= pd.Series(train_y.copy())\n",
        "y_true= pd.Series(test_y.copy())\n",
        "\n",
        "attack = ['DDoS', 'PortScan', 'Bot', 'Infiltration', 'Web Attack � Brute Force', 'Web Attack � XSS', 'Web Attack � Sql Injection']\n",
        "normal = 'BENIGN'\n",
        "y_true=y_true.replace(attack, -1)\n",
        "y_true=y_true.replace(normal, 1)\n",
        "y_true_train=y_true_train.replace(attack, -1)\n",
        "y_true_train=y_true_train.replace(normal, 1)\n",
        "y_true.unique()"
      ]
    },
    {
      "cell_type": "code",
      "execution_count": 77,
      "metadata": {
        "colab": {
          "base_uri": "https://localhost:8080/"
        },
        "id": "mDJeLSeVyrAH",
        "outputId": "4ef282bd-6c51-47fa-cf07-4ef6f09d6ae0"
      },
      "outputs": [
        {
          "output_type": "stream",
          "name": "stdout",
          "text": [
            "48077\n"
          ]
        },
        {
          "output_type": "execute_result",
          "data": {
            "text/plain": [
              " 1    47730\n",
              "-1      347\n",
              "Name: count, dtype: int64"
            ]
          },
          "metadata": {},
          "execution_count": 77
        }
      ],
      "source": [
        "print (len(y_true))\n",
        "y_true.value_counts()"
      ]
    },
    {
      "cell_type": "code",
      "execution_count": 78,
      "metadata": {
        "colab": {
          "base_uri": "https://localhost:8080/"
        },
        "id": "RiWx5FtkyyK7",
        "outputId": "60ce088d-2be3-41bf-9176-73f02c9713d5"
      },
      "outputs": [
        {
          "output_type": "stream",
          "name": "stdout",
          "text": [
            "48077\n"
          ]
        },
        {
          "output_type": "execute_result",
          "data": {
            "text/plain": [
              " 1    45292\n",
              "-1     2785\n",
              "Name: count, dtype: int64"
            ]
          },
          "metadata": {},
          "execution_count": 78
        }
      ],
      "source": [
        "print(len(y_pred_test))\n",
        "pd.Series(y_pred_test).value_counts()"
      ]
    },
    {
      "cell_type": "code",
      "execution_count": 79,
      "metadata": {
        "colab": {
          "base_uri": "https://localhost:8080/"
        },
        "id": "FXTeVvvvy0by",
        "outputId": "a07619d9-3556-4791-92a5-2155aa0b7dfd"
      },
      "outputs": [
        {
          "output_type": "execute_result",
          "data": {
            "text/plain": [
              "array([[    3,   344],\n",
              "       [ 2782, 44948]])"
            ]
          },
          "metadata": {},
          "execution_count": 79
        }
      ],
      "source": [
        "from sklearn.metrics import confusion_matrix\n",
        "cf_matrix = confusion_matrix(y_true, y_pred_test)\n",
        "tn, fp, fn, tp = cf_matrix.ravel()\n",
        "cf_matrix"
      ]
    },
    {
      "cell_type": "code",
      "execution_count": 80,
      "metadata": {
        "colab": {
          "base_uri": "https://localhost:8080/",
          "height": 530
        },
        "id": "yUxnTYFIzGK7",
        "outputId": "33bc739d-368c-4051-c76f-14a77d5ea9cc"
      },
      "outputs": [
        {
          "output_type": "display_data",
          "data": {
            "text/plain": [
              "<Figure size 640x480 with 2 Axes>"
            ],
            "image/png": "[encoded data removed]"
          },
          "metadata": {}
        }
      ],
      "source": [
        "import seaborn as sns\n",
        "import matplotlib.pyplot as plt\n",
        "ax = sns.heatmap(cf_matrix, annot=True, cmap='Blues')\n",
        "\n",
        "ax.set_title('Confusion Matrix with labels\\n\\n');\n",
        "ax.set_xlabel('\\nPredicted Values')\n",
        "ax.set_ylabel('Actual Values ');\n",
        "\n",
        "## Ticket labels - List must be in alphabetical order\n",
        "ax.xaxis.set_ticklabels(['False','True'])\n",
        "ax.yaxis.set_ticklabels(['False','True'])\n",
        "\n",
        "## Display the visualization of the Confusion Matrix.\n",
        "plt.show()"
      ]
    },
    {
      "cell_type": "code",
      "execution_count": 81,
      "metadata": {
        "colab": {
          "base_uri": "https://localhost:8080/"
        },
        "id": "_vWfMhqCzMBa",
        "outputId": "4840bcaf-281b-44d5-edc0-4911f3b139e3"
      },
      "outputs": [
        {
          "output_type": "stream",
          "name": "stdout",
          "text": [
            "True Negetive 3 \n",
            "True Positive 44948\n",
            "False Negetive 2782 \n",
            "False Positive 344\n"
          ]
        }
      ],
      "source": [
        "print (\"True Negetive\", tn,\n",
        "       \"\\nTrue Positive\", tp)\n",
        "print (\"False Negetive\", fn,\n",
        "       \"\\nFalse Positive\", fp)"
      ]
    },
    {
      "cell_type": "code",
      "execution_count": 82,
      "metadata": {
        "colab": {
          "base_uri": "https://localhost:8080/"
        },
        "id": "G1nKGPD6zbd5",
        "outputId": "013ef540-de87-4901-9463-46945fdd4c27"
      },
      "outputs": [
        {
          "output_type": "stream",
          "name": "stdout",
          "text": [
            "Recall 0.9417138068300859 \n",
            "Precision 0.9924048397067915\n"
          ]
        }
      ],
      "source": [
        "recall = tp/(tp+fn)\n",
        "precision = tp/(tp+fp)\n",
        "print(\"Recall\", recall, \"\\nPrecision\", precision)"
      ]
    },
    {
      "cell_type": "code",
      "execution_count": 83,
      "metadata": {
        "colab": {
          "base_uri": "https://localhost:8080/"
        },
        "id": "WwcRxtvczocz",
        "outputId": "92b27b61-6918-483e-930c-dae18f722030"
      },
      "outputs": [
        {
          "output_type": "stream",
          "name": "stdout",
          "text": [
            "F1 Score 0.9663950463331256\n"
          ]
        }
      ],
      "source": [
        "f1 = 2 * (precision*recall)/(precision+recall)\n",
        "print(\"F1 Score\", f1)"
      ]
    },
    {
      "cell_type": "code",
      "execution_count": 84,
      "metadata": {
        "colab": {
          "base_uri": "https://localhost:8080/",
          "height": 564
        },
        "id": "HEhqsFR_AtSW",
        "outputId": "aab78c67-095b-4115-f3b0-e0cfc91d7478"
      },
      "outputs": [
        {
          "output_type": "display_data",
          "data": {
            "text/plain": [
              "<Figure size 1000x600 with 1 Axes>"
            ],
            "image/png": "[encoded data removed]"
          },
          "metadata": {}
        }
      ],
      "source": [
        "import matplotlib.pyplot as plt\n",
        "from sklearn.manifold import TSNE\n",
        "\n",
        "# Visualize decision function\n",
        "plt.figure(figsize=(10, 6))\n",
        "\n",
        "# Decision function for training data\n",
        "decision_scores_train = model.decision_function(test_X)\n",
        "\n",
        "# Plot decision function values\n",
        "plt.scatter(range(len(test_X)), decision_scores_train, c=\"red\", cmap='coolwarm', label='Actual Labels')\n",
        "\n",
        "plt.xlabel('Data Points')\n",
        "plt.ylabel('Decision Function Value')\n",
        "plt.title('Decision Function Values for Training Data')\n",
        "plt.legend()\n",
        "plt.show()"
      ]
    },
    {
      "cell_type": "code",
      "execution_count": 85,
      "metadata": {
        "id": "R-Dmg0UoXkcp"
      },
      "outputs": [],
      "source": [
        "# Apply t-SNE for visualization\n",
        "# tsne = TSNE(n_components=2, random_state=42)\n",
        "# X_tsne = tsne.fit_transform(test_X)\n",
        "\n",
        "# # Visualize t-SNE\n",
        "# plt.figure(figsize=(10, 6))\n",
        "# plt.scatter(X_tsne[:, 0], X_tsne[:, 1], c=\"red\", cmap='coolwarm', label='Actual Labels')\n",
        "# plt.title('t-SNE Visualization of Training Data')\n",
        "# plt.xlabel('t-SNE Component 1')\n",
        "# plt.ylabel('t-SNE Component 2')\n",
        "# plt.legend()\n",
        "# plt.show()"
      ]
    },
    {
      "cell_type": "code",
      "execution_count": 86,
      "metadata": {
        "colab": {
          "base_uri": "https://localhost:8080/"
        },
        "id": "_fd6FtNlBGqv",
        "outputId": "fb78e906-14a0-4b74-a30b-c186955972ec"
      },
      "outputs": [
        {
          "output_type": "stream",
          "name": "stdout",
          "text": [
            "Training Metrics:\n",
            "Accuracy: 0.9556771887285272\n",
            "Precision: 0.0002361275088547816\n",
            "Recall: 0.0013531799729364006\n",
            "F1-score: 0.00040209087253719345\n",
            "\n",
            "Testing Metrics:\n",
            "Accuracy: 0.9349793040331136\n",
            "Precision: 0.0010771992818671453\n",
            "Recall: 0.008645533141210375\n",
            "F1-score: 0.001915708812260536\n"
          ]
        }
      ],
      "source": [
        "from sklearn.metrics import accuracy_score, precision_score, recall_score, f1_score, roc_auc_score\n",
        "\n",
        "# Compute metrics for training set\n",
        "accuracy_train = accuracy_score(y_true_train, y_pred_train)\n",
        "precision_train = precision_score(y_true_train, y_pred_train, pos_label=-1)  # Anomalies are labeled as -1\n",
        "recall_train = recall_score(y_true_train, y_pred_train, pos_label=-1)\n",
        "f1_train = f1_score(y_true_train, y_pred_train, pos_label=-1)\n",
        "\n",
        "# Compute metrics for testing set\n",
        "accuracy_test = accuracy_score(y_true, y_pred_test)\n",
        "precision_test = precision_score(y_true, y_pred_test, pos_label=-1)\n",
        "recall_test = recall_score(y_true, y_pred_test, pos_label=-1)\n",
        "f1_test = f1_score(y_true, y_pred_test, pos_label=-1)\n",
        "\n",
        "# Compute AUC for testing set\n",
        "# auc_test = roc_auc_score(test_y, -decision_scores_test)  # decision function is negative, so negate it for AUC calculation\n",
        "\n",
        "# # Print metrics\n",
        "print(\"Training Metrics:\")\n",
        "print(\"Accuracy:\", accuracy_train)\n",
        "print(\"Precision:\", precision_train)\n",
        "print(\"Recall:\", recall_train)\n",
        "print(\"F1-score:\", f1_train)\n",
        "\n",
        "print(\"\\nTesting Metrics:\")\n",
        "print(\"Accuracy:\", accuracy_test)\n",
        "print(\"Precision:\", precision_test)\n",
        "print(\"Recall:\", recall_test)\n",
        "print(\"F1-score:\", f1_test)\n",
        "# print(\"AUC:\", auc_test)"
      ]
    },
    {
      "cell_type": "markdown",
      "metadata": {
        "id": "pJKvrOE6A2Ur"
      },
      "source": [
        "**Logistic** Regression"
      ]
    },
    {
      "cell_type": "code",
      "execution_count": 86,
      "metadata": {
        "id": "MPYVwTbqqXK9"
      },
      "outputs": [],
      "source": []
    },
    {
      "cell_type": "code",
      "execution_count": 87,
      "metadata": {
        "colab": {
          "base_uri": "https://localhost:8080/"
        },
        "id": "IIQCbiD1YdQz",
        "outputId": "cc8e6111-66a5-48ef-bedf-aa52deb53b3b"
      },
      "outputs": [
        {
          "output_type": "execute_result",
          "data": {
            "text/plain": [
              "array([ 1, -1])"
            ]
          },
          "metadata": {},
          "execution_count": 87
        }
      ],
      "source": [
        "y_true_train= pd.Series(train_y.copy())\n",
        "y_true= pd.Series(test_y.copy())\n",
        "\n",
        "attack = ['DDoS', 'PortScan', 'Bot', 'Infiltration', 'Web Attack � Brute Force', 'Web Attack � XSS', 'Web Attack � Sql Injection']\n",
        "normal = 'BENIGN'\n",
        "y_true=y_true.replace(attack, -1)\n",
        "y_true=y_true.replace(normal, 1)\n",
        "y_true_train=y_true_train.replace(attack, -1)\n",
        "y_true_train=y_true_train.replace(normal, 1)\n",
        "y_true.unique()"
      ]
    },
    {
      "cell_type": "code",
      "source": [
        "from sklearn.model_selection import train_test_split\n",
        "from sklearn.linear_model import LogisticRegression\n",
        "from sklearn.metrics import classification_report, confusion_matrix\n",
        "import seaborn as sns\n",
        "\n",
        "\n",
        "# Assuming X_train, X_test, y_train, y_test are your feature and target variables for training and testing\n",
        "# Split the data into training and testing sets\n",
        "\n",
        "# Train the logistic regression model\n",
        "model = LogisticRegression()\n",
        "model.fit(train_X, y_true_train)\n",
        "\n",
        "# Make predictions on the testing set\n",
        "y_pred_train = model.predict(train_X)\n",
        "y_pred_test = model.predict(test_X)\n",
        "\n",
        "# Generate classification report and confusion matrix\n",
        "print(\"Classification Report:\")\n",
        "print(classification_report(y_true, y_pred_test))\n",
        "print(\"\\nConfusion Matrix:\")\n",
        "print(confusion_matrix(y_true, y_pred_test))\n",
        "\n",
        "cm = confusion_matrix(y_true=y_true, y_pred=y_pred_test)\n",
        "\n",
        "# Plot confusion matrix\n",
        "plt.figure(figsize=(8, 6))\n",
        "sns.heatmap(cm, annot=True, fmt='d', cmap='Blues', cbar=False,\n",
        "            xticklabels=['Normal', 'Anomaly'], yticklabels=['Normal', 'Anomaly'])\n",
        "plt.xlabel('Predicted Label')\n",
        "plt.ylabel('True Label')\n",
        "plt.title('Confusion Matrix')\n",
        "plt.show()"
      ],
      "metadata": {
        "colab": {
          "base_uri": "https://localhost:8080/",
          "height": 807
        },
        "id": "s6hlkAfEGP8K",
        "outputId": "e9df4360-b1ce-4363-a6bf-62d2f8aecea8"
      },
      "execution_count": 88,
      "outputs": [
        {
          "output_type": "stream",
          "name": "stdout",
          "text": [
            "Classification Report:\n",
            "              precision    recall  f1-score   support\n",
            "\n",
            "          -1       0.00      0.00      0.00       347\n",
            "           1       0.99      1.00      1.00     47730\n",
            "\n",
            "    accuracy                           0.99     48077\n",
            "   macro avg       0.50      0.50      0.50     48077\n",
            "weighted avg       0.99      0.99      0.99     48077\n",
            "\n",
            "\n",
            "Confusion Matrix:\n",
            "[[    0   347]\n",
            " [    1 47729]]\n"
          ]
        },
        {
          "output_type": "display_data",
          "data": {
            "text/plain": [
              "<Figure size 800x600 with 1 Axes>"
            ],
            "image/png": "[encoded data removed]"
          },
          "metadata": {}
        }
      ]
    },
    {
      "cell_type": "code",
      "source": [
        "plt.plot(y_true, y_pred_test, color='blue', lw=2, label='')\n",
        "plt.show()"
      ],
      "metadata": {
        "colab": {
          "base_uri": "https://localhost:8080/",
          "height": 430
        },
        "id": "QmjGAYnVKktg",
        "outputId": "775849a6-3026-4230-df9c-47ec0c30f237"
      },
      "execution_count": 89,
      "outputs": [
        {
          "output_type": "display_data",
          "data": {
            "text/plain": [
              "<Figure size 640x480 with 1 Axes>"
            ],
            "image/png": "[encoded data removed]"
          },
          "metadata": {}
        }
      ]
    },
    {
      "cell_type": "code",
      "source": [
        "from sklearn.metrics import roc_curve, auc\n",
        "import matplotlib.pyplot as plt\n",
        "\n",
        "# Get predicted probabilities for the positive class (anomaly)\n",
        "y_prob = model.predict_proba(test_X)[:, 1]\n",
        "\n",
        "# Compute ROC curve and ROC area\n",
        "fpr, tpr, thresholds = roc_curve(y_true, y_prob)\n",
        "roc_auc = auc(fpr, tpr)\n",
        "\n",
        "# Plot ROC curve\n",
        "plt.figure(figsize=(8, 6))\n",
        "plt.plot(fpr, tpr, color='blue', lw=2, label='ROC curve (area = %0.2f)' % roc_auc)\n",
        "plt.plot([0, 1], [0, 1], color='red', linestyle='--', lw=2)\n",
        "plt.xlim([0.0, 1.0])\n",
        "plt.ylim([0.0, 1.05])\n",
        "plt.xlabel('False Positive Rate')\n",
        "plt.ylabel('True Positive Rate')\n",
        "plt.title('Receiver Operating Characteristic (ROC) Curve')\n",
        "plt.legend(loc='lower right')\n",
        "plt.show()"
      ],
      "metadata": {
        "colab": {
          "base_uri": "https://localhost:8080/",
          "height": 564
        },
        "id": "9neDlk2JKH-g",
        "outputId": "05c9cc50-0d78-44d1-8ea3-54049dfb96a2"
      },
      "execution_count": 90,
      "outputs": [
        {
          "output_type": "display_data",
          "data": {
            "text/plain": [
              "<Figure size 800x600 with 1 Axes>"
            ],
            "image/png": "[encoded data removed]"
          },
          "metadata": {}
        }
      ]
    },
    {
      "cell_type": "code",
      "source": [
        "from sklearn.metrics import precision_recall_curve\n",
        "\n",
        "# Compute precision-recall curve\n",
        "precision, recall, _ = precision_recall_curve(y_true, y_pred_test)\n",
        "\n",
        "# Plot precision-recall curve\n",
        "plt.figure(figsize=(8, 6))\n",
        "plt.plot(recall, precision, color='blue', lw=2)\n",
        "plt.xlim([0.0, 1.0])\n",
        "plt.ylim([0.0, 1.05])\n",
        "plt.xlabel('Recall')\n",
        "plt.ylabel('Precision')\n",
        "plt.title('Precision-Recall Curve')\n",
        "plt.show()"
      ],
      "metadata": {
        "colab": {
          "base_uri": "https://localhost:8080/",
          "height": 564
        },
        "id": "RWdksuTiG8my",
        "outputId": "83899277-832b-43fd-8b7b-d8b7bf4117d0"
      },
      "execution_count": 91,
      "outputs": [
        {
          "output_type": "display_data",
          "data": {
            "text/plain": [
              "<Figure size 800x600 with 1 Axes>"
            ],
            "image/png": "[encoded data removed]"
          },
          "metadata": {}
        }
      ]
    },
    {
      "cell_type": "code",
      "execution_count": 92,
      "metadata": {
        "id": "dKAr7EWndR2q"
      },
      "outputs": [],
      "source": [
        "# from sklearn.model_selection import train_test_split\n",
        "# from sklearn.preprocessing import StandardScaler\n",
        "# from sklearn.svm import OneClassSVM\n",
        "# from sklearn.metrics import confusion_matrix, classification_report\n",
        "# from sklearn.model_selection import train_test_split\n",
        "# from sklearn.linear_model import LinearRegression\n",
        "# from sklearn.metrics import mean_squared_error\n",
        "# import seaborn as sns\n",
        "\n",
        "\n",
        "\n",
        "\n",
        "\n",
        "\n",
        "# # Standardize features\n",
        "# # X_train_scaled = train_X.copy()\n",
        "# # X_test_scaled = test_X.copy()\n",
        "\n",
        "# # # Train One-Class SVM\n",
        "# # svm = OneClassSVM(nu=0.6)  # Adjust nu parameter accordingly\n",
        "# # svm.fit(X_train_scaled)\n",
        "\n",
        "\n",
        "\n",
        "# # Assuming X_train, X_test, y_train, y_test are your feature and target variables for training and testing\n",
        "# # Split the data into training and testing sets\n",
        "# # X_train, X_test, y_train, y_test = train_test_split(features, target, test_size=0.2, random_state=42)\n",
        "\n",
        "# # Train the linear regression model\n",
        "# model = LinearRegression()\n",
        "# model.fit(train_X, y_true_train)\n",
        "\n",
        "# # Make predictions on the testing set\n",
        "# y_pred_train = model.predict(train_X)\n",
        "# y_pred_test = model.predict(test_X)\n",
        "\n",
        "\n",
        "# # Calculate prediction errors\n",
        "# errors = abs(y_pred_test - y_true)\n",
        "\n",
        "# # Define a threshold for anomaly detection\n",
        "# threshold = 2  # Example threshold\n",
        "\n",
        "# # Identify anomalies\n",
        "# anomalies = test_X[errors > threshold]\n",
        "\n",
        "# # Evaluate performance (Optional)\n",
        "# mse = mean_squared_error(y_true, y_pred_test)\n",
        "# print(\"Mean Squared Error:\", mse)\n",
        "\n",
        "# # Predict outliers\n",
        "# # y_pred_train = svm.predict(X_train_scaled)\n",
        "# # y_pred_test = svm.predict(X_test_scaled)\n",
        "\n",
        "# # Evaluate model\n",
        "# print(\"Training Classification Report:\")\n",
        "# # print(classification_report(y_true_train, y_pred_train))\n",
        "# labels = (errors > threshold).astype(int)  # 1 for anomalies, 0 for normal instances\n",
        "\n",
        "# # Generate a classification report\n",
        "# print(classification_report(y_true=labels, y_pred=(errors > threshold).astype(int)))\n",
        "# print(\"Confusion Matrix (Training):\")\n",
        "# # print(confusion_matrix(y_true_train, y_pred_train))\n",
        "\n",
        "# cm = confusion_matrix(y_true=labels, y_pred=(errors > threshold).astype(int))\n",
        "\n",
        "# # Plot confusion matrix\n",
        "# plt.figure(figsize=(8, 6))\n",
        "# sns.heatmap(cm, annot=True, fmt='d', cmap='Blues', cbar=False,\n",
        "#             xticklabels=['Normal', 'Anomaly'], yticklabels=['Normal', 'Anomaly'])\n",
        "# plt.xlabel('Predicted Label')\n",
        "# plt.ylabel('True Label')\n",
        "# plt.title('Confusion Matrix')\n",
        "# plt.show()\n",
        "\n",
        "# # print(\"\\nTesting Classification Report:\")\n",
        "# # print(classification_report(y_true, y_pred_test))\n",
        "# # print(\"Confusion Matrix (Testing):\")\n",
        "# # print(confusion_matrix(y_true, y_pred_test))"
      ]
    },
    {
      "cell_type": "code",
      "execution_count": 92,
      "metadata": {
        "id": "I0jjxx2vA9Kl"
      },
      "outputs": [],
      "source": []
    },
    {
      "cell_type": "code",
      "execution_count": 93,
      "metadata": {
        "id": "YMvOGEetDQaY"
      },
      "outputs": [],
      "source": [
        "# import matplotlib.pyplot as plt\n",
        "# from sklearn.manifold import TSNE\n",
        "\n",
        "# # Visualize decision function\n",
        "# plt.figure(figsize=(10, 6))\n",
        "\n",
        "# # Decision function for training data\n",
        "# # decision_scores_train = svm.decision_function(X_train_scaled)\n",
        "\n",
        "# # Plot decision function values\n",
        "# plt.scatter(range(len(train_X)), decision_scores_train, c=\"red\", cmap='coolwarm', label='Actual Labels')\n",
        "\n",
        "# plt.xlabel('Data Points')\n",
        "# plt.ylabel('Decision Function Value')\n",
        "# plt.title('Decision Function Values for Training Data')\n",
        "# plt.legend()\n",
        "# plt.show()"
      ]
    },
    {
      "cell_type": "code",
      "execution_count": 94,
      "metadata": {
        "id": "lN7W57_oDRc0"
      },
      "outputs": [],
      "source": [
        "# # Apply t-SNE for visualization\n",
        "# tsne = TSNE(n_components=2, random_state=42)\n",
        "# X_tsne = tsne.fit_transform(X_train_scaled)\n",
        "\n",
        "# # Visualize t-SNE\n",
        "# plt.figure(figsize=(10, 6))\n",
        "# plt.scatter(X_tsne[:, 0], X_tsne[:, 1], c=\"red\", cmap='coolwarm', label='Actual Labels')\n",
        "# plt.title('t-SNE Visualization of Training Data')\n",
        "# plt.xlabel('t-SNE Component 1')\n",
        "# plt.ylabel('t-SNE Component 2')\n",
        "# plt.legend()\n",
        "# plt.show()"
      ]
    },
    {
      "cell_type": "code",
      "source": [
        "# from sklearn.metrics import accuracy_score, precision_score, recall_score, f1_score\n",
        "\n",
        "# # Assuming errors and threshold are calculated as described earlier\n",
        "\n",
        "# # Define binary labels based on whether prediction errors exceed the threshold\n",
        "# labels = (errors > threshold).astype(int)  # 1 for anomalies, 0 for normal instances\n",
        "\n",
        "# # Calculate metrics\n",
        "# accuracy = accuracy_score(y_true=labels, y_pred=(errors > threshold).astype(int))\n",
        "# precision = precision_score(y_true=labels, y_pred=(errors > threshold).astype(int))\n",
        "# recall = recall_score(y_true=labels, y_pred=(errors > threshold).astype(int))\n",
        "# f1 = f1_score(y_true=labels, y_pred=(errors > threshold).astype(int))\n",
        "\n",
        "# print(\"Accuracy:\", accuracy)\n",
        "# print(\"Precision:\", precision)\n",
        "# print(\"Recall:\", recall)\n",
        "# print(\"F1-score:\", f1)"
      ],
      "metadata": {
        "id": "j6x33RzWFvyw"
      },
      "execution_count": 95,
      "outputs": []
    },
    {
      "cell_type": "code",
      "execution_count": 96,
      "metadata": {
        "colab": {
          "base_uri": "https://localhost:8080/"
        },
        "id": "WVVIvmuLDaZQ",
        "outputId": "9d19bf1a-16f2-4f6b-a134-98017dfdcd76"
      },
      "outputs": [
        {
          "output_type": "stream",
          "name": "stdout",
          "text": [
            "\n",
            "Testing Metrics:\n",
            "Accuracy: 0.9927616115814215\n",
            "Precision: 0.0\n",
            "Recall: 0.0\n",
            "F1-score: 0.0\n"
          ]
        }
      ],
      "source": [
        "from sklearn.metrics import accuracy_score, precision_score, recall_score, f1_score, roc_auc_score\n",
        "\n",
        "# Compute metrics for training set\n",
        "# accuracy_train = accuracy_score(y_true_train, y_pred_train)\n",
        "# precision_train = precision_score(y_true_train, y_pred_train, pos_label=-1)  # Anomalies are labeled as -1\n",
        "# recall_train = recall_score(y_true_train, y_pred_train, pos_label=-1)\n",
        "# f1_train = f1_score(y_true_train, y_pred_train, pos_label=-1)\n",
        "\n",
        "# Compute metrics for testing set\n",
        "accuracy_test = accuracy_score(y_true, y_pred_test)\n",
        "precision_test = precision_score(y_true, y_pred_test, pos_label=-1)\n",
        "recall_test = recall_score(y_true, y_pred_test, pos_label=-1)\n",
        "f1_test = f1_score(y_true, y_pred_test, pos_label=-1)\n",
        "\n",
        "# Compute AUC for testing set\n",
        "# auc_test = roc_auc_score(test_y, -decision_scores_test)  # decision function is negative, so negate it for AUC calculation\n",
        "\n",
        "# # Print metrics\n",
        "# print(\"Training Metrics:\")\n",
        "# print(\"Accuracy:\", accuracy_train)\n",
        "# print(\"Precision:\", precision_train)\n",
        "# print(\"Recall:\", recall_train)\n",
        "# print(\"F1-score:\", f1_train)\n",
        "\n",
        "print(\"\\nTesting Metrics:\")\n",
        "print(\"Accuracy:\", accuracy_test)\n",
        "print(\"Precision:\", precision_test)\n",
        "print(\"Recall:\", recall_test)\n",
        "print(\"F1-score:\", f1_test)\n",
        "# print(\"AUC:\", auc_test)"
      ]
    },
    {
      "cell_type": "markdown",
      "source": [
        "K-Nearest Neighbours model"
      ],
      "metadata": {
        "id": "4W2OOu2YLoij"
      }
    },
    {
      "cell_type": "code",
      "source": [
        "from sklearn.svm import SVC\n",
        "from sklearn.metrics import classification_report\n",
        "\n",
        "# Assuming X_train, X_test, y_train, y_test are your feature and target variables for training and testing\n",
        "# Train the SVM model\n",
        "svm_model = SVC(kernel='linear')  # Example: Linear kernel\n",
        "svm_model.fit(train_X, y_true_train)\n",
        "\n",
        "# Make predictions on the testing set\n",
        "y_pred = svm_model.predict(test_X)\n",
        "\n",
        "# Generate a classification report\n",
        "print(\"Classification Report:\")\n",
        "print(classification_report(y_true, y_pred))"
      ],
      "metadata": {
        "colab": {
          "base_uri": "https://localhost:8080/"
        },
        "id": "4dON7edEyy5H",
        "outputId": "3d9ff386-f9b0-4a1a-e6ee-cb6a153a308d"
      },
      "execution_count": 97,
      "outputs": [
        {
          "output_type": "stream",
          "name": "stdout",
          "text": [
            "Classification Report:\n",
            "              precision    recall  f1-score   support\n",
            "\n",
            "          -1       0.00      0.00      0.00       347\n",
            "           1       0.99      1.00      1.00     47730\n",
            "\n",
            "    accuracy                           0.99     48077\n",
            "   macro avg       0.50      0.50      0.50     48077\n",
            "weighted avg       0.99      0.99      0.99     48077\n",
            "\n"
          ]
        }
      ]
    },
    {
      "cell_type": "code",
      "source": [
        "# y_true_train= pd.Series(train_y.copy())\n",
        "# y_true= pd.Series(test_y.copy())\n",
        "\n",
        "# attack = ['DDoS', 'PortScan', 'Bot', 'Infiltration', 'Web Attack � Brute Force', 'Web Attack � XSS', 'Web Attack � Sql Injection']\n",
        "# normal = 'BENIGN'\n",
        "# y_true=y_true.replace(attack, 0)\n",
        "# y_true=y_true.replace(normal, 1)\n",
        "# y_true_train=y_true_train.replace(attack, 0)\n",
        "# y_true_train=y_true_train.replace(normal, 1)\n",
        "# y_true.unique()"
      ],
      "metadata": {
        "id": "8i45wiiMOgpA"
      },
      "execution_count": 98,
      "outputs": []
    },
    {
      "cell_type": "code",
      "source": [
        "# from sklearn.model_selection import train_test_split\n",
        "# from sklearn.neighbors import NearestNeighbors\n",
        "# from sklearn.metrics import precision_score, recall_score, f1_score, classification_report\n",
        "# import numpy as np\n",
        "\n",
        "# num_instances = train_X.shape[0]\n",
        "\n",
        "# # Generate random feature values for the new instances\n",
        "# random_feature_values = np.random.rand(num_instances, len(cols))  # Example: Generate random values between 0 and 1\n",
        "\n",
        "# # Create a new DataFrame with the random feature values\n",
        "# unlabeled_df = pd.DataFrame(random_feature_values, columns=cols)\n",
        "\n",
        "\n",
        "# X_train_unlabeled, X_test_unlabeled = train_test_split(unlabeled_df, test_size=0.3, random_state=10)\n",
        "\n",
        "# # Train a KNN model on the labeled data\n",
        "# k = 5  # Number of neighbors\n",
        "# knn = NearestNeighbors(n_neighbors=k)\n",
        "# knn.fit(train_X)\n",
        "\n",
        "# # Calculate distances to the k-nearest neighbors for each instance in the unlabeled data\n",
        "# distances, _ = knn.kneighbors(X_train_unlabeled)\n",
        "\n",
        "# # Calculate anomaly scores based on the distances to the k-nearest neighbors\n",
        "# # Here, we use the average distance to the k-nearest neighbors as the anomaly score\n",
        "# scores = np.mean(distances, axis=1)\n",
        "\n",
        "# # Define a threshold based on some criteria (e.g., percentile, manual tuning)\n",
        "# threshold = np.percentile(scores, 95)  # Example: 95th percentile\n",
        "\n",
        "# # Classify instances as normal or anomalous based on the threshold\n",
        "# predictions = (scores >= threshold).astype(int)\n",
        "\n",
        "# # Evaluate performance on labeled data\n",
        "# precision = precision_score(y_true, predictions)\n",
        "# recall = recall_score(y_true, predictions)\n",
        "# f1 = f1_score(y_true, predictions)\n",
        "\n",
        "# print(\"Precision:\", precision)\n",
        "# print(\"Recall:\", recall)\n",
        "# print(\"F1-score:\", f1)\n",
        "\n",
        "# # Generate a classification report\n",
        "# print(\"Classification Report on Labeled Data:\")\n",
        "# print(classification_report(y_true, predictions))\n",
        "\n",
        "# # Make predictions on the test set (labeled data)\n",
        "# test_scores = np.mean(knn.kneighbors(test_X)[0], axis=1)\n",
        "# test_predictions = (test_scores >= threshold).astype(int)\n",
        "\n",
        "# # Evaluate performance on the test set (labeled data)\n",
        "# test_precision = precision_score(y_true, test_predictions)\n",
        "# test_recall = recall_score(y_true, test_predictions)\n",
        "# test_f1 = f1_score(y_true, test_predictions)\n",
        "\n",
        "# print(\"\\nTest Set Performance:\")\n",
        "# print(\"Test Precision:\", test_precision)\n",
        "# print(\"Test Recall:\", test_recall)\n",
        "# print(\"Test F1-score:\", test_f1)\n",
        "\n",
        "# # Generate a classification report for the test set (labeled data)\n",
        "# print(\"\\nClassification Report on Test Set:\")\n",
        "# print(classification_report(y_true, test_predictions))"
      ],
      "metadata": {
        "id": "1kGKRmmvwhLQ"
      },
      "execution_count": 99,
      "outputs": []
    }
  ],
  "metadata": {
    "colab": {
      "provenance": [],
      "authorship_tag": "ABX9TyOM3M8GN3CqxJlS/HYd80kB",
      "include_colab_link": true
    },
    "kernelspec": {
      "display_name": "Python 3",
      "name": "python3"
    },
    "language_info": {
      "name": "python"
    }
  },
  "nbformat": 4,
  "nbformat_minor": 0
}